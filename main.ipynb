{
 "cells": [
  {
   "cell_type": "markdown",
   "metadata": {},
   "source": [
    "### Recommendations Rank & Knowledge Based: \n"
   ]
  },
  {
   "cell_type": "code",
   "execution_count": 1,
   "metadata": {},
   "outputs": [],
   "source": [
    "import numpy as np\n",
    "import pandas as pd\n",
    "import matplotlib.pyplot as plt\n",
    "import tests as t\n",
    "\n",
    "%matplotlib inline\n",
    "\n",
    "# Read in the datasets\n",
    "movies = pd.read_csv(r'C:\\Users\\Vista\\Desktop\\movies_clean.csv')\n",
    "reviews = pd.read_csv(r'C:\\Users\\Vista\\Desktop\\reviews_clean.csv')\n",
    "del movies['Unnamed: 0']\n",
    "del reviews['Unnamed: 0']"
   ]
  },
  {
   "cell_type": "code",
   "execution_count": 2,
   "metadata": {},
   "outputs": [
    {
     "data": {
      "text/html": [
       "<div>\n",
       "<style scoped>\n",
       "    .dataframe tbody tr th:only-of-type {\n",
       "        vertical-align: middle;\n",
       "    }\n",
       "\n",
       "    .dataframe tbody tr th {\n",
       "        vertical-align: top;\n",
       "    }\n",
       "\n",
       "    .dataframe thead th {\n",
       "        text-align: right;\n",
       "    }\n",
       "</style>\n",
       "<table border=\"1\" class=\"dataframe\">\n",
       "  <thead>\n",
       "    <tr style=\"text-align: right;\">\n",
       "      <th></th>\n",
       "      <th>user_id</th>\n",
       "      <th>movie_id</th>\n",
       "      <th>rating</th>\n",
       "      <th>timestamp</th>\n",
       "      <th>date</th>\n",
       "      <th>month_1</th>\n",
       "      <th>month_2</th>\n",
       "      <th>month_3</th>\n",
       "      <th>month_4</th>\n",
       "      <th>month_5</th>\n",
       "      <th>...</th>\n",
       "      <th>month_9</th>\n",
       "      <th>month_10</th>\n",
       "      <th>month_11</th>\n",
       "      <th>month_12</th>\n",
       "      <th>year_2013</th>\n",
       "      <th>year_2014</th>\n",
       "      <th>year_2015</th>\n",
       "      <th>year_2016</th>\n",
       "      <th>year_2017</th>\n",
       "      <th>year_2018</th>\n",
       "    </tr>\n",
       "  </thead>\n",
       "  <tbody>\n",
       "    <tr>\n",
       "      <th>0</th>\n",
       "      <td>1</td>\n",
       "      <td>68646</td>\n",
       "      <td>10</td>\n",
       "      <td>1381620027</td>\n",
       "      <td>2013-10-12 23:20:27</td>\n",
       "      <td>0</td>\n",
       "      <td>0</td>\n",
       "      <td>0</td>\n",
       "      <td>0</td>\n",
       "      <td>0</td>\n",
       "      <td>...</td>\n",
       "      <td>0</td>\n",
       "      <td>1</td>\n",
       "      <td>0</td>\n",
       "      <td>0</td>\n",
       "      <td>1</td>\n",
       "      <td>0</td>\n",
       "      <td>0</td>\n",
       "      <td>0</td>\n",
       "      <td>0</td>\n",
       "      <td>0</td>\n",
       "    </tr>\n",
       "    <tr>\n",
       "      <th>1</th>\n",
       "      <td>1</td>\n",
       "      <td>113277</td>\n",
       "      <td>10</td>\n",
       "      <td>1379466669</td>\n",
       "      <td>2013-09-18 01:11:09</td>\n",
       "      <td>0</td>\n",
       "      <td>0</td>\n",
       "      <td>0</td>\n",
       "      <td>0</td>\n",
       "      <td>0</td>\n",
       "      <td>...</td>\n",
       "      <td>0</td>\n",
       "      <td>0</td>\n",
       "      <td>0</td>\n",
       "      <td>0</td>\n",
       "      <td>1</td>\n",
       "      <td>0</td>\n",
       "      <td>0</td>\n",
       "      <td>0</td>\n",
       "      <td>0</td>\n",
       "      <td>0</td>\n",
       "    </tr>\n",
       "    <tr>\n",
       "      <th>2</th>\n",
       "      <td>2</td>\n",
       "      <td>422720</td>\n",
       "      <td>8</td>\n",
       "      <td>1412178746</td>\n",
       "      <td>2014-10-01 15:52:26</td>\n",
       "      <td>0</td>\n",
       "      <td>0</td>\n",
       "      <td>0</td>\n",
       "      <td>0</td>\n",
       "      <td>0</td>\n",
       "      <td>...</td>\n",
       "      <td>0</td>\n",
       "      <td>1</td>\n",
       "      <td>0</td>\n",
       "      <td>0</td>\n",
       "      <td>0</td>\n",
       "      <td>1</td>\n",
       "      <td>0</td>\n",
       "      <td>0</td>\n",
       "      <td>0</td>\n",
       "      <td>0</td>\n",
       "    </tr>\n",
       "    <tr>\n",
       "      <th>3</th>\n",
       "      <td>2</td>\n",
       "      <td>454876</td>\n",
       "      <td>8</td>\n",
       "      <td>1394818630</td>\n",
       "      <td>2014-03-14 17:37:10</td>\n",
       "      <td>0</td>\n",
       "      <td>0</td>\n",
       "      <td>0</td>\n",
       "      <td>0</td>\n",
       "      <td>0</td>\n",
       "      <td>...</td>\n",
       "      <td>0</td>\n",
       "      <td>0</td>\n",
       "      <td>0</td>\n",
       "      <td>0</td>\n",
       "      <td>0</td>\n",
       "      <td>1</td>\n",
       "      <td>0</td>\n",
       "      <td>0</td>\n",
       "      <td>0</td>\n",
       "      <td>0</td>\n",
       "    </tr>\n",
       "    <tr>\n",
       "      <th>4</th>\n",
       "      <td>2</td>\n",
       "      <td>790636</td>\n",
       "      <td>7</td>\n",
       "      <td>1389963947</td>\n",
       "      <td>2014-01-17 13:05:47</td>\n",
       "      <td>0</td>\n",
       "      <td>0</td>\n",
       "      <td>0</td>\n",
       "      <td>0</td>\n",
       "      <td>0</td>\n",
       "      <td>...</td>\n",
       "      <td>0</td>\n",
       "      <td>0</td>\n",
       "      <td>0</td>\n",
       "      <td>0</td>\n",
       "      <td>0</td>\n",
       "      <td>1</td>\n",
       "      <td>0</td>\n",
       "      <td>0</td>\n",
       "      <td>0</td>\n",
       "      <td>0</td>\n",
       "    </tr>\n",
       "  </tbody>\n",
       "</table>\n",
       "<p>5 rows × 23 columns</p>\n",
       "</div>"
      ],
      "text/plain": [
       "   user_id  movie_id  rating   timestamp                 date  month_1  \\\n",
       "0        1     68646      10  1381620027  2013-10-12 23:20:27        0   \n",
       "1        1    113277      10  1379466669  2013-09-18 01:11:09        0   \n",
       "2        2    422720       8  1412178746  2014-10-01 15:52:26        0   \n",
       "3        2    454876       8  1394818630  2014-03-14 17:37:10        0   \n",
       "4        2    790636       7  1389963947  2014-01-17 13:05:47        0   \n",
       "\n",
       "   month_2  month_3  month_4  month_5  ...  month_9  month_10  month_11  \\\n",
       "0        0        0        0        0  ...        0         1         0   \n",
       "1        0        0        0        0  ...        0         0         0   \n",
       "2        0        0        0        0  ...        0         1         0   \n",
       "3        0        0        0        0  ...        0         0         0   \n",
       "4        0        0        0        0  ...        0         0         0   \n",
       "\n",
       "   month_12  year_2013  year_2014  year_2015  year_2016  year_2017  year_2018  \n",
       "0         0          1          0          0          0          0          0  \n",
       "1         0          1          0          0          0          0          0  \n",
       "2         0          0          1          0          0          0          0  \n",
       "3         0          0          1          0          0          0          0  \n",
       "4         0          0          1          0          0          0          0  \n",
       "\n",
       "[5 rows x 23 columns]"
      ]
     },
     "execution_count": 2,
     "metadata": {},
     "output_type": "execute_result"
    }
   ],
   "source": [
    "reviews.head()"
   ]
  },
  {
   "cell_type": "code",
   "execution_count": 3,
   "metadata": {},
   "outputs": [
    {
     "data": {
      "text/plain": [
       "(712337, 23)"
      ]
     },
     "execution_count": 3,
     "metadata": {},
     "output_type": "execute_result"
    }
   ],
   "source": [
    "reviews.shape"
   ]
  },
  {
   "cell_type": "code",
   "execution_count": 4,
   "metadata": {},
   "outputs": [
    {
     "data": {
      "text/html": [
       "<div>\n",
       "<style scoped>\n",
       "    .dataframe tbody tr th:only-of-type {\n",
       "        vertical-align: middle;\n",
       "    }\n",
       "\n",
       "    .dataframe tbody tr th {\n",
       "        vertical-align: top;\n",
       "    }\n",
       "\n",
       "    .dataframe thead th {\n",
       "        text-align: right;\n",
       "    }\n",
       "</style>\n",
       "<table border=\"1\" class=\"dataframe\">\n",
       "  <thead>\n",
       "    <tr style=\"text-align: right;\">\n",
       "      <th></th>\n",
       "      <th>movie_id</th>\n",
       "      <th>movie</th>\n",
       "      <th>genre</th>\n",
       "      <th>date</th>\n",
       "      <th>1800's</th>\n",
       "      <th>1900's</th>\n",
       "      <th>2000's</th>\n",
       "      <th>History</th>\n",
       "      <th>News</th>\n",
       "      <th>Horror</th>\n",
       "      <th>...</th>\n",
       "      <th>Fantasy</th>\n",
       "      <th>Romance</th>\n",
       "      <th>Game-Show</th>\n",
       "      <th>Action</th>\n",
       "      <th>Documentary</th>\n",
       "      <th>Animation</th>\n",
       "      <th>Comedy</th>\n",
       "      <th>Short</th>\n",
       "      <th>Western</th>\n",
       "      <th>Thriller</th>\n",
       "    </tr>\n",
       "  </thead>\n",
       "  <tbody>\n",
       "    <tr>\n",
       "      <th>0</th>\n",
       "      <td>8</td>\n",
       "      <td>Edison Kinetoscopic Record of a Sneeze (1894)</td>\n",
       "      <td>Documentary|Short</td>\n",
       "      <td>1894</td>\n",
       "      <td>1</td>\n",
       "      <td>0</td>\n",
       "      <td>0</td>\n",
       "      <td>0</td>\n",
       "      <td>0</td>\n",
       "      <td>0</td>\n",
       "      <td>...</td>\n",
       "      <td>0</td>\n",
       "      <td>0</td>\n",
       "      <td>0</td>\n",
       "      <td>0</td>\n",
       "      <td>1</td>\n",
       "      <td>0</td>\n",
       "      <td>0</td>\n",
       "      <td>1</td>\n",
       "      <td>0</td>\n",
       "      <td>0</td>\n",
       "    </tr>\n",
       "    <tr>\n",
       "      <th>1</th>\n",
       "      <td>10</td>\n",
       "      <td>La sortie des usines Lumière (1895)</td>\n",
       "      <td>Documentary|Short</td>\n",
       "      <td>1895</td>\n",
       "      <td>1</td>\n",
       "      <td>0</td>\n",
       "      <td>0</td>\n",
       "      <td>0</td>\n",
       "      <td>0</td>\n",
       "      <td>0</td>\n",
       "      <td>...</td>\n",
       "      <td>0</td>\n",
       "      <td>0</td>\n",
       "      <td>0</td>\n",
       "      <td>0</td>\n",
       "      <td>1</td>\n",
       "      <td>0</td>\n",
       "      <td>0</td>\n",
       "      <td>1</td>\n",
       "      <td>0</td>\n",
       "      <td>0</td>\n",
       "    </tr>\n",
       "    <tr>\n",
       "      <th>2</th>\n",
       "      <td>12</td>\n",
       "      <td>The Arrival of a Train (1896)</td>\n",
       "      <td>Documentary|Short</td>\n",
       "      <td>1896</td>\n",
       "      <td>1</td>\n",
       "      <td>0</td>\n",
       "      <td>0</td>\n",
       "      <td>0</td>\n",
       "      <td>0</td>\n",
       "      <td>0</td>\n",
       "      <td>...</td>\n",
       "      <td>0</td>\n",
       "      <td>0</td>\n",
       "      <td>0</td>\n",
       "      <td>0</td>\n",
       "      <td>1</td>\n",
       "      <td>0</td>\n",
       "      <td>0</td>\n",
       "      <td>1</td>\n",
       "      <td>0</td>\n",
       "      <td>0</td>\n",
       "    </tr>\n",
       "    <tr>\n",
       "      <th>3</th>\n",
       "      <td>25</td>\n",
       "      <td>The Oxford and Cambridge University Boat Race ...</td>\n",
       "      <td>NaN</td>\n",
       "      <td>1895</td>\n",
       "      <td>1</td>\n",
       "      <td>0</td>\n",
       "      <td>0</td>\n",
       "      <td>0</td>\n",
       "      <td>0</td>\n",
       "      <td>0</td>\n",
       "      <td>...</td>\n",
       "      <td>0</td>\n",
       "      <td>0</td>\n",
       "      <td>0</td>\n",
       "      <td>0</td>\n",
       "      <td>0</td>\n",
       "      <td>0</td>\n",
       "      <td>0</td>\n",
       "      <td>0</td>\n",
       "      <td>0</td>\n",
       "      <td>0</td>\n",
       "    </tr>\n",
       "    <tr>\n",
       "      <th>4</th>\n",
       "      <td>91</td>\n",
       "      <td>Le manoir du diable (1896)</td>\n",
       "      <td>Short|Horror</td>\n",
       "      <td>1896</td>\n",
       "      <td>1</td>\n",
       "      <td>0</td>\n",
       "      <td>0</td>\n",
       "      <td>0</td>\n",
       "      <td>0</td>\n",
       "      <td>1</td>\n",
       "      <td>...</td>\n",
       "      <td>0</td>\n",
       "      <td>0</td>\n",
       "      <td>0</td>\n",
       "      <td>0</td>\n",
       "      <td>0</td>\n",
       "      <td>0</td>\n",
       "      <td>0</td>\n",
       "      <td>1</td>\n",
       "      <td>0</td>\n",
       "      <td>0</td>\n",
       "    </tr>\n",
       "  </tbody>\n",
       "</table>\n",
       "<p>5 rows × 35 columns</p>\n",
       "</div>"
      ],
      "text/plain": [
       "   movie_id                                              movie  \\\n",
       "0         8      Edison Kinetoscopic Record of a Sneeze (1894)   \n",
       "1        10                La sortie des usines Lumière (1895)   \n",
       "2        12                      The Arrival of a Train (1896)   \n",
       "3        25  The Oxford and Cambridge University Boat Race ...   \n",
       "4        91                         Le manoir du diable (1896)   \n",
       "\n",
       "               genre  date  1800's  1900's  2000's  History  News  Horror  \\\n",
       "0  Documentary|Short  1894       1       0       0        0     0       0   \n",
       "1  Documentary|Short  1895       1       0       0        0     0       0   \n",
       "2  Documentary|Short  1896       1       0       0        0     0       0   \n",
       "3                NaN  1895       1       0       0        0     0       0   \n",
       "4       Short|Horror  1896       1       0       0        0     0       1   \n",
       "\n",
       "   ...  Fantasy  Romance  Game-Show  Action  Documentary  Animation  Comedy  \\\n",
       "0  ...        0        0          0       0            1          0       0   \n",
       "1  ...        0        0          0       0            1          0       0   \n",
       "2  ...        0        0          0       0            1          0       0   \n",
       "3  ...        0        0          0       0            0          0       0   \n",
       "4  ...        0        0          0       0            0          0       0   \n",
       "\n",
       "   Short  Western  Thriller  \n",
       "0      1        0         0  \n",
       "1      1        0         0  \n",
       "2      1        0         0  \n",
       "3      0        0         0  \n",
       "4      1        0         0  \n",
       "\n",
       "[5 rows x 35 columns]"
      ]
     },
     "execution_count": 4,
     "metadata": {},
     "output_type": "execute_result"
    }
   ],
   "source": [
    "movies.head()"
   ]
  },
  {
   "cell_type": "code",
   "execution_count": 5,
   "metadata": {},
   "outputs": [
    {
     "data": {
      "text/plain": [
       "(31245, 35)"
      ]
     },
     "execution_count": 5,
     "metadata": {},
     "output_type": "execute_result"
    }
   ],
   "source": [
    "movies.shape"
   ]
  },
  {
   "cell_type": "markdown",
   "metadata": {},
   "source": [
    "#### 1. How To Find The Most Popular Movies\n",
    "\n",
    "For this notebook, we have a single task.  The task is that no matter the user, we need to provide a list of the recommendations based on simply the most popular items.\n",
    "\n",
    "For this task, we will consider what is \"most popular\" based on the following criteria:\n",
    "\n",
    "* A movie with the highest average rating is considered best\n",
    "* With ties, movies that have more ratings are better\n",
    "* A movie must have a minimum of 5 ratings to be considered among the best movies\n",
    "* If movies are tied in their average rating and number of ratings, the ranking is determined by the movie that is the most recent rating\n",
    "\n",
    "With these criteria, the goal for this notebook is to take a **user_id** and provide back the **n_top** recommendations.  Use the function below as the scaffolding that will be used for all the future recommendations as well."
   ]
  },
  {
   "cell_type": "code",
   "execution_count": 6,
   "metadata": {},
   "outputs": [
    {
     "data": {
      "text/plain": [
       "1454468    3029\n",
       "993846     2673\n",
       "770828     2617\n",
       "816692     2572\n",
       "816711     2385\n",
       "           ... \n",
       "23814         1\n",
       "42265         1\n",
       "101692        1\n",
       "103743        1\n",
       "62177         1\n",
       "Name: movie_id, Length: 31245, dtype: int64"
      ]
     },
     "execution_count": 6,
     "metadata": {},
     "output_type": "execute_result"
    }
   ],
   "source": [
    "reviews.movie_id.value_counts()"
   ]
  },
  {
   "cell_type": "code",
   "execution_count": 7,
   "metadata": {},
   "outputs": [
    {
     "data": {
      "text/plain": [
       "Int64Index([1454468,  993846,  770828,  816692,  816711, 1670345, 1300854,\n",
       "            1535109, 2267998, 1392214],\n",
       "           dtype='int64')"
      ]
     },
     "execution_count": 7,
     "metadata": {},
     "output_type": "execute_result"
    }
   ],
   "source": [
    "reviews.movie_id.value_counts().index[:10]"
   ]
  },
  {
   "cell_type": "code",
   "execution_count": 8,
   "metadata": {},
   "outputs": [
    {
     "data": {
      "text/plain": [
       "17747    Gravity (2013)\n",
       "Name: movie, dtype: object"
      ]
     },
     "execution_count": 8,
     "metadata": {},
     "output_type": "execute_result"
    }
   ],
   "source": [
    "movies.query(\"movie_id==1454468\")['movie']"
   ]
  },
  {
   "cell_type": "code",
   "execution_count": 9,
   "metadata": {},
   "outputs": [
    {
     "data": {
      "text/plain": [
       "9     852\n",
       "8     819\n",
       "10    646\n",
       "7     376\n",
       "6     179\n",
       "5      70\n",
       "4      31\n",
       "1      22\n",
       "2      21\n",
       "3      13\n",
       "Name: rating, dtype: int64"
      ]
     },
     "execution_count": 9,
     "metadata": {},
     "output_type": "execute_result"
    }
   ],
   "source": [
    "reviews.query(\"movie_id==1454468\").rating.value_counts()"
   ]
  },
  {
   "cell_type": "code",
   "execution_count": 10,
   "metadata": {},
   "outputs": [
    {
     "name": "stdout",
     "output_type": "stream",
     "text": [
      "Int64Index([9, 8, 10, 7, 6, 5, 4, 1, 2, 3], dtype='int64')\n",
      "[852 819 646 376 179  70  31  22  21  13]\n",
      "average rating of movie: 17747    Gravity (2013)\n",
      "Name: movie, dtype: object is: 8.241333773522614 \n"
     ]
    }
   ],
   "source": [
    "#avg\n",
    "rate =reviews.query(\"movie_id==1454468\").rating.value_counts()\n",
    "m = movies.query(\"movie_id==1454468\")['movie']\n",
    "\n",
    "v=rate.values\n",
    "i=rate.index\n",
    "print(i)\n",
    "print(v)\n",
    "\n",
    "avg=sum(i*v)/sum(v)\n",
    "print(f\"average rating of movie: {m} is: {avg} \")\n"
   ]
  },
  {
   "cell_type": "code",
   "execution_count": 11,
   "metadata": {},
   "outputs": [
    {
     "data": {
      "text/plain": [
       "816692     1142\n",
       "1454468     646\n",
       "111161      573\n",
       "993846      543\n",
       "2119532     539\n",
       "           ... \n",
       "1320103       1\n",
       "2821314       1\n",
       "120025        1\n",
       "910559        1\n",
       "1077262       1\n",
       "Name: movie_id, Length: 10011, dtype: int64"
      ]
     },
     "execution_count": 11,
     "metadata": {},
     "output_type": "execute_result"
    }
   ],
   "source": [
    "reviews.query(\"rating == 10\")['movie_id'].value_counts()"
   ]
  },
  {
   "cell_type": "code",
   "execution_count": 12,
   "metadata": {},
   "outputs": [
    {
     "data": {
      "text/plain": [
       "81         8\n",
       "371       10\n",
       "394        9\n",
       "555        9\n",
       "680        8\n",
       "          ..\n",
       "711185    10\n",
       "711220    10\n",
       "711402    10\n",
       "711488    10\n",
       "711751     4\n",
       "Name: rating, Length: 2572, dtype: int64"
      ]
     },
     "execution_count": 12,
     "metadata": {},
     "output_type": "execute_result"
    }
   ],
   "source": [
    "reviews.query(\"movie_id == 816692\")['rating']"
   ]
  },
  {
   "cell_type": "code",
   "execution_count": 13,
   "metadata": {},
   "outputs": [
    {
     "data": {
      "text/plain": [
       "5.0"
      ]
     },
     "execution_count": 13,
     "metadata": {},
     "output_type": "execute_result"
    }
   ],
   "source": [
    "np.average(reviews.query(\"movie_id == 816692\").rating.value_counts().index)"
   ]
  },
  {
   "cell_type": "code",
   "execution_count": 17,
   "metadata": {},
   "outputs": [
    {
     "data": {
      "text/plain": [
       "0    10\n",
       "1    10\n",
       "Name: rating, dtype: int64"
      ]
     },
     "execution_count": 17,
     "metadata": {},
     "output_type": "execute_result"
    }
   ],
   "source": [
    "reviw=reviews.query(\"user_id ==1\").rating\n",
    "reviw.head()"
   ]
  },
  {
   "cell_type": "code",
   "execution_count": 20,
   "metadata": {},
   "outputs": [
    {
     "data": {
      "text/html": [
       "<div>\n",
       "<style scoped>\n",
       "    .dataframe tbody tr th:only-of-type {\n",
       "        vertical-align: middle;\n",
       "    }\n",
       "\n",
       "    .dataframe tbody tr th {\n",
       "        vertical-align: top;\n",
       "    }\n",
       "\n",
       "    .dataframe thead tr th {\n",
       "        text-align: left;\n",
       "    }\n",
       "\n",
       "    .dataframe thead tr:last-of-type th {\n",
       "        text-align: right;\n",
       "    }\n",
       "</style>\n",
       "<table border=\"1\" class=\"dataframe\">\n",
       "  <thead>\n",
       "    <tr>\n",
       "      <th></th>\n",
       "      <th>date</th>\n",
       "    </tr>\n",
       "    <tr>\n",
       "      <th></th>\n",
       "      <th>max</th>\n",
       "    </tr>\n",
       "    <tr>\n",
       "      <th>movie_id</th>\n",
       "      <th></th>\n",
       "    </tr>\n",
       "  </thead>\n",
       "  <tbody>\n",
       "    <tr>\n",
       "      <th>8</th>\n",
       "      <td>2014-04-08 18:20:11</td>\n",
       "    </tr>\n",
       "    <tr>\n",
       "      <th>10</th>\n",
       "      <td>2014-10-09 18:15:53</td>\n",
       "    </tr>\n",
       "    <tr>\n",
       "      <th>12</th>\n",
       "      <td>2015-08-10 23:16:19</td>\n",
       "    </tr>\n",
       "    <tr>\n",
       "      <th>25</th>\n",
       "      <td>2017-02-27 10:04:59</td>\n",
       "    </tr>\n",
       "    <tr>\n",
       "      <th>91</th>\n",
       "      <td>2013-11-23 18:59:55</td>\n",
       "    </tr>\n",
       "    <tr>\n",
       "      <th>...</th>\n",
       "      <td>...</td>\n",
       "    </tr>\n",
       "    <tr>\n",
       "      <th>8335880</th>\n",
       "      <td>2018-05-11 18:39:25</td>\n",
       "    </tr>\n",
       "    <tr>\n",
       "      <th>8342748</th>\n",
       "      <td>2018-05-26 18:50:01</td>\n",
       "    </tr>\n",
       "    <tr>\n",
       "      <th>8342946</th>\n",
       "      <td>2018-06-18 03:16:26</td>\n",
       "    </tr>\n",
       "    <tr>\n",
       "      <th>8402090</th>\n",
       "      <td>2018-06-12 14:21:41</td>\n",
       "    </tr>\n",
       "    <tr>\n",
       "      <th>8439854</th>\n",
       "      <td>2018-06-26 07:35:47</td>\n",
       "    </tr>\n",
       "  </tbody>\n",
       "</table>\n",
       "<p>31245 rows × 1 columns</p>\n",
       "</div>"
      ],
      "text/plain": [
       "                         date\n",
       "                          max\n",
       "movie_id                     \n",
       "8         2014-04-08 18:20:11\n",
       "10        2014-10-09 18:15:53\n",
       "12        2015-08-10 23:16:19\n",
       "25        2017-02-27 10:04:59\n",
       "91        2013-11-23 18:59:55\n",
       "...                       ...\n",
       "8335880   2018-05-11 18:39:25\n",
       "8342748   2018-05-26 18:50:01\n",
       "8342946   2018-06-18 03:16:26\n",
       "8402090   2018-06-12 14:21:41\n",
       "8439854   2018-06-26 07:35:47\n",
       "\n",
       "[31245 rows x 1 columns]"
      ]
     },
     "execution_count": 20,
     "metadata": {},
     "output_type": "execute_result"
    }
   ],
   "source": [
    "max_date=reviews.groupby(\"movie_id\").agg({'date':[\"max\"]})\n",
    "max_date"
   ]
  },
  {
   "cell_type": "code",
   "execution_count": 1,
   "metadata": {},
   "outputs": [],
   "source": [
    "##r=reviews.query(\"movie_id == 1454468\").rating.value_counts()\n",
    "#total_rating=r.values*r.index\n",
    "#sum(total_rating)/r.values.sum()\n",
    "\n",
    "avg_rating=[]\n",
    "for i in range(id_length): \n",
    "    q=\"movie_id ==\"+str(id_length[i])\n",
    "    r=reviews.query(q).rating.value_counts()\n",
    "    total_rating=r.values*r.index\n",
    "    \n",
    "    rate=sum(total_rating)/r.values.sum()\n",
    "    \n",
    "    avg_rating.append(rate)\n",
    "len(avg_rating)"
   ]
  },
  {
   "cell_type": "code",
   "execution_count": 35,
   "metadata": {},
   "outputs": [
    {
     "data": {
      "text/plain": [
       "31245"
      ]
     },
     "execution_count": 35,
     "metadata": {},
     "output_type": "execute_result"
    }
   ],
   "source": [
    "id=movies['movie_id']\n",
    "len(id)"
   ]
  },
  {
   "cell_type": "code",
   "execution_count": 36,
   "metadata": {},
   "outputs": [
    {
     "data": {
      "text/plain": [
       "31245"
      ]
     },
     "execution_count": 36,
     "metadata": {},
     "output_type": "execute_result"
    }
   ],
   "source": [
    "avg_rating=[]\n",
    "for i in range(len(id)): \n",
    "    \n",
    "    q=\"movie_id ==\"+str(id[i])\n",
    "    r=reviews.query(q).rating.value_counts()\n",
    "    \n",
    "    total_rating=r.values*r.index\n",
    "    \n",
    "    rate=sum(total_rating)/r.values.sum()\n",
    "    \n",
    "    avg_rating.append(rate)\n",
    "len(avg_rating)"
   ]
  },
  {
   "cell_type": "code",
   "execution_count": 39,
   "metadata": {},
   "outputs": [
    {
     "data": {
      "text/html": [
       "<div>\n",
       "<style scoped>\n",
       "    .dataframe tbody tr th:only-of-type {\n",
       "        vertical-align: middle;\n",
       "    }\n",
       "\n",
       "    .dataframe tbody tr th {\n",
       "        vertical-align: top;\n",
       "    }\n",
       "\n",
       "    .dataframe thead th {\n",
       "        text-align: right;\n",
       "    }\n",
       "</style>\n",
       "<table border=\"1\" class=\"dataframe\">\n",
       "  <thead>\n",
       "    <tr style=\"text-align: right;\">\n",
       "      <th></th>\n",
       "      <th>ID</th>\n",
       "      <th>AVG_rating</th>\n",
       "    </tr>\n",
       "  </thead>\n",
       "  <tbody>\n",
       "    <tr>\n",
       "      <th>0</th>\n",
       "      <td>8</td>\n",
       "      <td>5.000000</td>\n",
       "    </tr>\n",
       "    <tr>\n",
       "      <th>1</th>\n",
       "      <td>10</td>\n",
       "      <td>10.000000</td>\n",
       "    </tr>\n",
       "    <tr>\n",
       "      <th>2</th>\n",
       "      <td>12</td>\n",
       "      <td>10.000000</td>\n",
       "    </tr>\n",
       "    <tr>\n",
       "      <th>3</th>\n",
       "      <td>25</td>\n",
       "      <td>8.000000</td>\n",
       "    </tr>\n",
       "    <tr>\n",
       "      <th>4</th>\n",
       "      <td>91</td>\n",
       "      <td>6.000000</td>\n",
       "    </tr>\n",
       "    <tr>\n",
       "      <th>5</th>\n",
       "      <td>417</td>\n",
       "      <td>8.368421</td>\n",
       "    </tr>\n",
       "    <tr>\n",
       "      <th>6</th>\n",
       "      <td>439</td>\n",
       "      <td>6.750000</td>\n",
       "    </tr>\n",
       "    <tr>\n",
       "      <th>7</th>\n",
       "      <td>443</td>\n",
       "      <td>8.000000</td>\n",
       "    </tr>\n",
       "    <tr>\n",
       "      <th>8</th>\n",
       "      <td>628</td>\n",
       "      <td>4.500000</td>\n",
       "    </tr>\n",
       "    <tr>\n",
       "      <th>9</th>\n",
       "      <td>833</td>\n",
       "      <td>3.000000</td>\n",
       "    </tr>\n",
       "  </tbody>\n",
       "</table>\n",
       "</div>"
      ],
      "text/plain": [
       "    ID  AVG_rating\n",
       "0    8    5.000000\n",
       "1   10   10.000000\n",
       "2   12   10.000000\n",
       "3   25    8.000000\n",
       "4   91    6.000000\n",
       "5  417    8.368421\n",
       "6  439    6.750000\n",
       "7  443    8.000000\n",
       "8  628    4.500000\n",
       "9  833    3.000000"
      ]
     },
     "execution_count": 39,
     "metadata": {},
     "output_type": "execute_result"
    }
   ],
   "source": [
    "df=pd.DataFrame({'ID':id, 'AVG_rating': avg_rating})\n",
    "df.head(10)"
   ]
  },
  {
   "cell_type": "code",
   "execution_count": 41,
   "metadata": {},
   "outputs": [
    {
     "data": {
      "text/html": [
       "<div>\n",
       "<style scoped>\n",
       "    .dataframe tbody tr th:only-of-type {\n",
       "        vertical-align: middle;\n",
       "    }\n",
       "\n",
       "    .dataframe tbody tr th {\n",
       "        vertical-align: top;\n",
       "    }\n",
       "\n",
       "    .dataframe thead th {\n",
       "        text-align: right;\n",
       "    }\n",
       "</style>\n",
       "<table border=\"1\" class=\"dataframe\">\n",
       "  <thead>\n",
       "    <tr style=\"text-align: right;\">\n",
       "      <th></th>\n",
       "      <th>ID</th>\n",
       "      <th>AVG_rating</th>\n",
       "    </tr>\n",
       "  </thead>\n",
       "  <tbody>\n",
       "    <tr>\n",
       "      <th>7468</th>\n",
       "      <td>105107</td>\n",
       "      <td>10.0</td>\n",
       "    </tr>\n",
       "    <tr>\n",
       "      <th>19065</th>\n",
       "      <td>1684917</td>\n",
       "      <td>10.0</td>\n",
       "    </tr>\n",
       "    <tr>\n",
       "      <th>23819</th>\n",
       "      <td>2626338</td>\n",
       "      <td>10.0</td>\n",
       "    </tr>\n",
       "    <tr>\n",
       "      <th>16160</th>\n",
       "      <td>1149405</td>\n",
       "      <td>10.0</td>\n",
       "    </tr>\n",
       "    <tr>\n",
       "      <th>5402</th>\n",
       "      <td>85769</td>\n",
       "      <td>10.0</td>\n",
       "    </tr>\n",
       "    <tr>\n",
       "      <th>...</th>\n",
       "      <td>...</td>\n",
       "      <td>...</td>\n",
       "    </tr>\n",
       "    <tr>\n",
       "      <th>26581</th>\n",
       "      <td>3661976</td>\n",
       "      <td>1.0</td>\n",
       "    </tr>\n",
       "    <tr>\n",
       "      <th>17553</th>\n",
       "      <td>1421032</td>\n",
       "      <td>1.0</td>\n",
       "    </tr>\n",
       "    <tr>\n",
       "      <th>10929</th>\n",
       "      <td>259898</td>\n",
       "      <td>1.0</td>\n",
       "    </tr>\n",
       "    <tr>\n",
       "      <th>6188</th>\n",
       "      <td>93142</td>\n",
       "      <td>1.0</td>\n",
       "    </tr>\n",
       "    <tr>\n",
       "      <th>22206</th>\n",
       "      <td>2275671</td>\n",
       "      <td>0.0</td>\n",
       "    </tr>\n",
       "  </tbody>\n",
       "</table>\n",
       "<p>31245 rows × 2 columns</p>\n",
       "</div>"
      ],
      "text/plain": [
       "            ID  AVG_rating\n",
       "7468    105107        10.0\n",
       "19065  1684917        10.0\n",
       "23819  2626338        10.0\n",
       "16160  1149405        10.0\n",
       "5402     85769        10.0\n",
       "...        ...         ...\n",
       "26581  3661976         1.0\n",
       "17553  1421032         1.0\n",
       "10929   259898         1.0\n",
       "6188     93142         1.0\n",
       "22206  2275671         0.0\n",
       "\n",
       "[31245 rows x 2 columns]"
      ]
     },
     "execution_count": 41,
     "metadata": {},
     "output_type": "execute_result"
    }
   ],
   "source": [
    "df = df.sort_values(by=['AVG_rating'], ascending=False)\n",
    "df"
   ]
  },
  {
   "cell_type": "code",
   "execution_count": 45,
   "metadata": {},
   "outputs": [],
   "source": [
    "# df.to_csv(r\"C:\\Users\\Vista\\Desktop\\rs\\AVG_rating1.csv\")"
   ]
  },
  {
   "cell_type": "code",
   "execution_count": 46,
   "metadata": {},
   "outputs": [
    {
     "data": {
      "text/plain": [
       "31245"
      ]
     },
     "execution_count": 46,
     "metadata": {},
     "output_type": "execute_result"
    }
   ],
   "source": [
    "df2=pd.read_csv(r\"C:\\Users\\Vista\\Desktop\\rs\\AVG_rating1.csv\")\n",
    "len(df2)"
   ]
  },
  {
   "cell_type": "code",
   "execution_count": 73,
   "metadata": {},
   "outputs": [
    {
     "data": {
      "text/plain": [
       "23796"
      ]
     },
     "execution_count": 73,
     "metadata": {},
     "output_type": "execute_result"
    }
   ],
   "source": [
    "df_best=df2.query(\"AVG_rating > 5 and AVG_rating < 10 \")[['ID','AVG_rating']]\n",
    "df_best.head()\n",
    "len(df_best)"
   ]
  },
  {
   "cell_type": "code",
   "execution_count": 74,
   "metadata": {},
   "outputs": [
    {
     "data": {
      "text/html": [
       "<div>\n",
       "<style scoped>\n",
       "    .dataframe tbody tr th:only-of-type {\n",
       "        vertical-align: middle;\n",
       "    }\n",
       "\n",
       "    .dataframe tbody tr th {\n",
       "        vertical-align: top;\n",
       "    }\n",
       "\n",
       "    .dataframe thead th {\n",
       "        text-align: right;\n",
       "    }\n",
       "</style>\n",
       "<table border=\"1\" class=\"dataframe\">\n",
       "  <thead>\n",
       "    <tr style=\"text-align: right;\">\n",
       "      <th></th>\n",
       "      <th>ID</th>\n",
       "      <th>AVG_rating</th>\n",
       "    </tr>\n",
       "  </thead>\n",
       "  <tbody>\n",
       "    <tr>\n",
       "      <th>1709</th>\n",
       "      <td>5512872</td>\n",
       "      <td>9.985836</td>\n",
       "    </tr>\n",
       "    <tr>\n",
       "      <th>1710</th>\n",
       "      <td>4148400</td>\n",
       "      <td>9.882353</td>\n",
       "    </tr>\n",
       "    <tr>\n",
       "      <th>1711</th>\n",
       "      <td>1629443</td>\n",
       "      <td>9.800000</td>\n",
       "    </tr>\n",
       "    <tr>\n",
       "      <th>1712</th>\n",
       "      <td>6798422</td>\n",
       "      <td>9.800000</td>\n",
       "    </tr>\n",
       "    <tr>\n",
       "      <th>1713</th>\n",
       "      <td>111341</td>\n",
       "      <td>9.800000</td>\n",
       "    </tr>\n",
       "    <tr>\n",
       "      <th>...</th>\n",
       "      <td>...</td>\n",
       "      <td>...</td>\n",
       "    </tr>\n",
       "    <tr>\n",
       "      <th>25500</th>\n",
       "      <td>2802136</td>\n",
       "      <td>5.051282</td>\n",
       "    </tr>\n",
       "    <tr>\n",
       "      <th>25501</th>\n",
       "      <td>4694544</td>\n",
       "      <td>5.041667</td>\n",
       "    </tr>\n",
       "    <tr>\n",
       "      <th>25502</th>\n",
       "      <td>1780762</td>\n",
       "      <td>5.040000</td>\n",
       "    </tr>\n",
       "    <tr>\n",
       "      <th>25503</th>\n",
       "      <td>1929308</td>\n",
       "      <td>5.037037</td>\n",
       "    </tr>\n",
       "    <tr>\n",
       "      <th>25504</th>\n",
       "      <td>3534602</td>\n",
       "      <td>5.028571</td>\n",
       "    </tr>\n",
       "  </tbody>\n",
       "</table>\n",
       "<p>23796 rows × 2 columns</p>\n",
       "</div>"
      ],
      "text/plain": [
       "            ID  AVG_rating\n",
       "1709   5512872    9.985836\n",
       "1710   4148400    9.882353\n",
       "1711   1629443    9.800000\n",
       "1712   6798422    9.800000\n",
       "1713    111341    9.800000\n",
       "...        ...         ...\n",
       "25500  2802136    5.051282\n",
       "25501  4694544    5.041667\n",
       "25502  1780762    5.040000\n",
       "25503  1929308    5.037037\n",
       "25504  3534602    5.028571\n",
       "\n",
       "[23796 rows x 2 columns]"
      ]
     },
     "execution_count": 74,
     "metadata": {},
     "output_type": "execute_result"
    }
   ],
   "source": [
    "df_best = df_best.sort_values(by=['AVG_rating'], ascending=False)\n",
    "df_best"
   ]
  },
  {
   "cell_type": "code",
   "execution_count": 75,
   "metadata": {},
   "outputs": [],
   "source": [
    "id=list(df_best['ID'].values)\n",
    "rating=list(df_best['AVG_rating'].values)"
   ]
  },
  {
   "cell_type": "code",
   "execution_count": 76,
   "metadata": {},
   "outputs": [
    {
     "data": {
      "text/plain": [
       "[5512872, 4148400, 6798422, 111341, 423176, 5476944, 53114]"
      ]
     },
     "execution_count": 76,
     "metadata": {},
     "output_type": "execute_result"
    }
   ],
   "source": [
    "ll=[]\n",
    "l=[]\n",
    "for i in range(0,10):\n",
    "    q1=\"movie_id ==\"+str(id[i])\n",
    "    d1=list(reviews.query(q1)['date'])\n",
    "    d1.sort(reverse=True)\n",
    "    \n",
    "    q2=\"movie_id ==\"+str(id[i+1])\n",
    "    d2=list(reviews.query(q2)['date'])\n",
    "    d2.sort(reverse=True)\n",
    "\n",
    "    if rating[i]>rating[i+1]:\n",
    "        ll.append(id[i])\n",
    "    elif rating[i]==rating[i+1]:\n",
    "        if d1[0]>d2[0]:\n",
    "            ll.append(id[i])\n",
    "        else:\n",
    "            l.append(id[i+1])\n",
    "ll"
   ]
  },
  {
   "cell_type": "code",
   "execution_count": 77,
   "metadata": {},
   "outputs": [
    {
     "data": {
      "text/plain": [
       "[29679    Be Somebody (2016)\n",
       " Name: movie, dtype: object,\n",
       " 27609    Birlesen Gonuller (2014)\n",
       " Name: movie, dtype: object,\n",
       " 30864    Agnelli (2017)\n",
       " Name: movie, dtype: object,\n",
       " 8066    Sátántangó (1994)\n",
       " Name: movie, dtype: object,\n",
       " 13201    Shijie (2004)\n",
       " Name: movie, dtype: object,\n",
       " 29641    Kuroshitsuji: Book of the Atlantic (2017)\n",
       " Name: movie, dtype: object,\n",
       " 2185    Ningen no jôken (1959)\n",
       " Name: movie, dtype: object]"
      ]
     },
     "execution_count": 77,
     "metadata": {},
     "output_type": "execute_result"
    }
   ],
   "source": [
    "movie=[]\n",
    "for i in range(0,len(ll)):\n",
    "    q=\"movie_id ==\"+str(ll[i])\n",
    "    name=movies.query(q)['movie']\n",
    "    movie.append(name)\n",
    "    \n",
    "movie"
   ]
  },
  {
   "cell_type": "code",
   "execution_count": null,
   "metadata": {},
   "outputs": [],
   "source": []
  },
  {
   "cell_type": "code",
   "execution_count": 80,
   "metadata": {},
   "outputs": [],
   "source": [
    "def popular_recommendations(user_id, n_top):\n",
    "    '''\n",
    "    INPUT:\n",
    "    user_id - the user_id of the individual you are making recommendations for\n",
    "    n_top - an integer of the number recommendations you want back\n",
    "    OUTPUT:\n",
    "    top_movies - a list of the n_top recommended movies by movie title in order best to worst\n",
    "    '''\n",
    "  \n",
    "    #the movie that the user watched it\n",
    "    q1=\"user_id ==\"+str(user_id)\n",
    "    user_moive=list(reviews.query(q1)['movie_id'].values)\n",
    "    l1=[]\n",
    "\n",
    "    for i in range((n_top+len(user_moive))):\n",
    "  \n",
    "        q1=\"movie_id ==\"+str(id[i])\n",
    "        d1=list(reviews.query(q1)['date'])\n",
    "        d1.sort(reverse=True)\n",
    "        \n",
    "        q2=\"movie_id ==\"+str(id[i+1])\n",
    "        d2=list(reviews.query(q2)['date'])\n",
    "        d2.sort(reverse=True)\n",
    "        \n",
    "\n",
    "        if rating[i]>rating[i+1]:\n",
    "            l1.append(id[i])\n",
    "    \n",
    "        elif rating[i]==rating[i+1]:\n",
    "            if d1[0]>d2[0]:\n",
    "                l1.append(id[i])\n",
    "             \n",
    "            else:\n",
    "                l1.append(id[i+1])\n",
    "\n",
    "        \n",
    "        l2=[]\n",
    "        for i in range(0,len(l1)):\n",
    "            if l1[i] not in user_moive:\n",
    "                l2.append(l1[i]) \n",
    "        \n",
    "        top_movies=[]\n",
    "        for i in range(len(l2)):\n",
    "            q=\"movie_id ==\"+str(l2[i])\n",
    "            name=movies.query(q)['movie']\n",
    "            top_movies.append(name)\n",
    "    \n",
    "    return top_movies[0:n_top] # a list of the n_top movies as recommended"
   ]
  },
  {
   "cell_type": "code",
   "execution_count": 82,
   "metadata": {},
   "outputs": [
    {
     "name": "stdout",
     "output_type": "stream",
     "text": [
      "20 [29679    Be Somebody (2016)\n",
      "Name: movie, dtype: object, 27609    Birlesen Gonuller (2014)\n",
      "Name: movie, dtype: object, 30864    Agnelli (2017)\n",
      "Name: movie, dtype: object, 30864    Agnelli (2017)\n",
      "Name: movie, dtype: object, 8066    Sátántangó (1994)\n",
      "Name: movie, dtype: object, 13201    Shijie (2004)\n",
      "Name: movie, dtype: object, 29641    Kuroshitsuji: Book of the Atlantic (2017)\n",
      "Name: movie, dtype: object, 2715    Soy Cuba (1964)\n",
      "Name: movie, dtype: object, 2185    Ningen no jôken (1959)\n",
      "Name: movie, dtype: object, 2185    Ningen no jôken (1959)\n",
      "Name: movie, dtype: object, 1926    Toute la mémoire du monde (1956)\n",
      "Name: movie, dtype: object, 8672    When We Were Kings (1996)\n",
      "Name: movie, dtype: object, 2735    Akahige (1965)\n",
      "Name: movie, dtype: object, 22960    Crystal Lake Memories: The Complete History of...\n",
      "Name: movie, dtype: object, 2449    Les dimanches de Ville d'Avray (1962)\n",
      "Name: movie, dtype: object, 2449    Les dimanches de Ville d'Avray (1962)\n",
      "Name: movie, dtype: object, 30744    Gekijôban Fairy Tail: Dragon Cry (2017)\n",
      "Name: movie, dtype: object, 30744    Gekijôban Fairy Tail: Dragon Cry (2017)\n",
      "Name: movie, dtype: object, 17550    Facing Ali (2009)\n",
      "Name: movie, dtype: object, 17550    Facing Ali (2009)\n",
      "Name: movie, dtype: object]\n"
     ]
    }
   ],
   "source": [
    "l=popular_recommendations(1, 20)\n",
    "print(len(l),l)"
   ]
  },
  {
   "cell_type": "markdown",
   "metadata": {},
   "source": [
    "Usint the three criteria above, you should be able to put together the above function.  If you feel confident in your solution, check the results of your function against our solution. On the next page, you can see a walkthrough and you can of course get the solution by looking at the solution notebook available in this workspace.  "
   ]
  },
  {
   "cell_type": "code",
   "execution_count": null,
   "metadata": {},
   "outputs": [],
   "source": [
    "# Put your solutions for each of the cases here\n",
    "\n",
    "# Top 20 movies recommended for id 1\n",
    "\n",
    "recs_20_for_1 = # Your solution list here\n",
    "\n",
    "# Top 5 movies recommended for id 53968\n",
    "recs_5_for_53968 = # Your solution list here\n",
    "\n",
    "# Top 100 movies recommended for id 70000\n",
    "recs_100_for_70000 = # Your solution list here\n",
    "\n",
    "# Top 35 movies recommended for id 43\n",
    "recs_35_for_43 = # Your solution list here\n",
    "\n"
   ]
  },
  {
   "cell_type": "code",
   "execution_count": null,
   "metadata": {},
   "outputs": [],
   "source": [
    "### You Should Not Need To Modify Anything In This Cell\n",
    "ranked_movies = t.create_ranked_df(movies, reviews) # only run this once - it is not fast\n",
    "\n",
    "# check 1 \n",
    "assert t.popular_recommendations('1', 20, ranked_movies) == recs_20_for_1,  \"The first check failed...\"\n",
    "# check 2\n",
    "assert t.popular_recommendations('53968', 5, ranked_movies) == recs_5_for_53968,  \"The second check failed...\"\n",
    "# check 3\n",
    "assert t.popular_recommendations('70000', 100, ranked_movies) == recs_100_for_70000,  \"The third check failed...\"\n",
    "# check 4\n",
    "assert t.popular_recommendations('43', 35, ranked_movies) == recs_35_for_43,  \"The fourth check failed...\"\n",
    "\n",
    "print(\"If you got here, looks like you are good to go!  Nice job!\")"
   ]
  },
  {
   "cell_type": "markdown",
   "metadata": {},
   "source": [
    "**Notice:** This wasn't the only way we could have determined the \"top rated\" movies.  You can imagine that in keeping track of trending news or trending social events, you would likely want to create a time window from the current time, and then pull the articles in the most recent time frame.  There are always going to be some subjective decisions to be made.  \n",
    "\n",
    "If you find that no one is paying any attention to your most popular recommendations, then it might be time to find a new way to recommend, which is what the next parts of the lesson should prepare us to do!\n"
   ]
  },
  {
   "cell_type": "markdown",
   "metadata": {},
   "source": [
    "### Part II: Adding Filters\n",
    "\n",
    "Now that you have created a function to give back the **n_top** movies, let's make it a bit more robust.  Add arguments that will act as filters for the movie **year** and **genre**.  \n",
    "\n",
    "Use the cells below to adjust your existing function to allow for **year** and **genre** arguments as **lists** of **strings**.  Then your ending results are filtered to only movies within the lists of provided years and genres (as `or` conditions).  If no list is provided, there should be no filter applied.\n",
    "\n",
    "You can adjust other necessary inputs as necessary to retrieve the final results you are looking for!\n",
    "\n",
    "Try writing a few tests against the test function in our test function.  Below returns the top 20 movies for user 1 based on the specified year and genre filters.  Does yours return the same? \n",
    "\n",
    "```\n",
    "t.popular_recs_filtered('1', 20, ranked_movies, years=['2015', '2016', '2017', '2018'], genres=['History', 'Comedy'])\n",
    "```"
   ]
  },
  {
   "cell_type": "code",
   "execution_count": 87,
   "metadata": {},
   "outputs": [
    {
     "data": {
      "text/plain": [
       "505"
      ]
     },
     "execution_count": 87,
     "metadata": {},
     "output_type": "execute_result"
    }
   ],
   "source": [
    "q=\"genre in \"+ str(['History', 'Comedy'])+ \"and date in\"+ str(['2015', '2016', '2017', '2018'])\n",
    "m=movies.query(q)['movie_id']\n",
    "len(m.values)"
   ]
  },
  {
   "cell_type": "code",
   "execution_count": 83,
   "metadata": {},
   "outputs": [],
   "source": [
    "def popular_recs_filtered(user_id,n_top,years,genres):\n",
    "    \n",
    "    q=\"genre in \"+ str(genres)+ \"and date in\"+ str(years)\n",
    "    movie=movies.query(q)['movie_id']\n",
    "    \n",
    "    avg_rating=[]\n",
    "    id=list(movie.values)\n",
    "    \n",
    "    for i in range(len(id)): \n",
    "        q=\"movie_id ==\"+str(id[i])\n",
    "        r=reviews.query(q).rating.value_counts()\n",
    "        total_rating=r.values*r.index\n",
    "        rate=sum(total_rating)/r.values.sum()\n",
    "        avg_rating.append(rate)\n",
    "\n",
    "\n",
    "    df=pd.DataFrame({'ID':id, 'AVG_rating': avg_rating})\n",
    "    df=df.sort_values(by=['AVG_rating'], ascending=False)\n",
    "    df=df.query(\"AVG_rating > 5 and AVG_rating < 10 \")[['ID','AVG_rating']]\n",
    "    rating=list(df['AVG_rating'])\n",
    "    \n",
    "    #the movie that the user watched it\n",
    "    q1=\"user_id ==\"+str(user_id)\n",
    "    user_moive=list(reviews.query(q1)['movie_id'].values)\n",
    "    l1=[]\n",
    "\n",
    "    for i in range((n_top+len(user_moive))):\n",
    "        \n",
    "        q1=\"movie_id ==\"+str(id[i])\n",
    "        d1=list(reviews.query(q1)['date'])\n",
    "        d1.sort(reverse=True)\n",
    "        \n",
    "        q2=\"movie_id ==\"+str(id[i+1])\n",
    "        d2=list(reviews.query(q2)['date'])\n",
    "        d2.sort(reverse=True)\n",
    "\n",
    "        if rating[i]>rating[i+1]:\n",
    "            l1.append(id[i])\n",
    "    \n",
    "        elif rating[i]==rating[i+1]:\n",
    "            if d1[0]>d2[0]:\n",
    "                l1.append(id[i])\n",
    "             \n",
    "            else:\n",
    "                l1.append(id[i+1])\n",
    "\n",
    "        \n",
    "        l2=[]\n",
    "        \n",
    "        for i in range(0,len(l1)):\n",
    "            if l1[i] not in user_moive and l1[i]  in id:\n",
    "                l2.append(l1[i]) \n",
    "        \n",
    "        top_movies=[]\n",
    "        for i in range(len(l2)):\n",
    "            q=\"movie_id ==\"+str(l2[i])\n",
    "            name=movies.query(q)['movie']\n",
    "            top_movies.append(name)\n",
    "        \n",
    "    \n",
    "    return top_movies[0:n_top]  # a list of the n_top movies as recommended"
   ]
  },
  {
   "cell_type": "code",
   "execution_count": 84,
   "metadata": {},
   "outputs": [
    {
     "name": "stdout",
     "output_type": "stream",
     "text": [
      "20\n",
      "[15053    The Wedding Ringer (2015)\n",
      "Name: movie, dtype: object, 16839    The Last Film Festival (2016)\n",
      "Name: movie, dtype: object, 16839    The Last Film Festival (2016)\n",
      "Name: movie, dtype: object, 18117    Daddy's Home (2015)\n",
      "Name: movie, dtype: object, 18117    Daddy's Home (2015)\n",
      "Name: movie, dtype: object, 18582    Zoolander 2 (2016)\n",
      "Name: movie, dtype: object, 19001    Entourage (2015)\n",
      "Name: movie, dtype: object, 19001    Entourage (2015)\n",
      "Name: movie, dtype: object, 19234    Office Christmas Party (2016)\n",
      "Name: movie, dtype: object, 19777    Bad Santa 2 (2016)\n",
      "Name: movie, dtype: object, 19777    Bad Santa 2 (2016)\n",
      "Name: movie, dtype: object, 20157    Dirty Grandpa (2016)\n",
      "Name: movie, dtype: object, 20157    Dirty Grandpa (2016)\n",
      "Name: movie, dtype: object, 20556    Who Gets the Dog? (2016)\n",
      "Name: movie, dtype: object, 20557    Drunk Wedding (2015)\n",
      "Name: movie, dtype: object, 20622    Father Figures (2017)\n",
      "Name: movie, dtype: object, 20629    The Comedian (2016)\n",
      "Name: movie, dtype: object, 21347    Absolutely Fabulous: The Movie (2016)\n",
      "Name: movie, dtype: object, 21625    Good Kids (2016)\n",
      "Name: movie, dtype: object, 21625    Good Kids (2016)\n",
      "Name: movie, dtype: object]\n"
     ]
    }
   ],
   "source": [
    "top=popular_recs_filtered('1', 20, years=['2015', '2016', '2017', '2018'], genres=['History', 'Comedy'])\n",
    "print(len(top))\n",
    "print(top)"
   ]
  },
  {
   "cell_type": "code",
   "execution_count": 85,
   "metadata": {},
   "outputs": [
    {
     "name": "stdout",
     "output_type": "stream",
     "text": [
      "20\n",
      "[15053    The Wedding Ringer (2015)\n",
      "Name: movie, dtype: object, 16839    The Last Film Festival (2016)\n",
      "Name: movie, dtype: object, 16839    The Last Film Festival (2016)\n",
      "Name: movie, dtype: object, 18117    Daddy's Home (2015)\n",
      "Name: movie, dtype: object, 18117    Daddy's Home (2015)\n",
      "Name: movie, dtype: object, 18582    Zoolander 2 (2016)\n",
      "Name: movie, dtype: object, 19001    Entourage (2015)\n",
      "Name: movie, dtype: object, 19001    Entourage (2015)\n",
      "Name: movie, dtype: object, 19234    Office Christmas Party (2016)\n",
      "Name: movie, dtype: object, 19777    Bad Santa 2 (2016)\n",
      "Name: movie, dtype: object, 19777    Bad Santa 2 (2016)\n",
      "Name: movie, dtype: object, 20157    Dirty Grandpa (2016)\n",
      "Name: movie, dtype: object, 20157    Dirty Grandpa (2016)\n",
      "Name: movie, dtype: object, 20556    Who Gets the Dog? (2016)\n",
      "Name: movie, dtype: object, 20557    Drunk Wedding (2015)\n",
      "Name: movie, dtype: object, 20622    Father Figures (2017)\n",
      "Name: movie, dtype: object, 20629    The Comedian (2016)\n",
      "Name: movie, dtype: object, 21347    Absolutely Fabulous: The Movie (2016)\n",
      "Name: movie, dtype: object, 21625    Good Kids (2016)\n",
      "Name: movie, dtype: object, 21625    Good Kids (2016)\n",
      "Name: movie, dtype: object]\n"
     ]
    }
   ],
   "source": [
    "top=popular_recs_filtered('100', 20, years=['2015', '2016', '2017', '2018'], genres=['History', 'Comedy','Short|Horror'])\n",
    "print(len(top))\n",
    "print(top)"
   ]
  },
  {
   "cell_type": "code",
   "execution_count": null,
   "metadata": {},
   "outputs": [],
   "source": []
  },
  {
   "cell_type": "code",
   "execution_count": null,
   "metadata": {},
   "outputs": [],
   "source": []
  },
  {
   "cell_type": "code",
   "execution_count": null,
   "metadata": {},
   "outputs": [],
   "source": []
  },
  {
   "cell_type": "code",
   "execution_count": null,
   "metadata": {},
   "outputs": [],
   "source": []
  },
  {
   "cell_type": "code",
   "execution_count": null,
   "metadata": {},
   "outputs": [],
   "source": []
  },
  {
   "cell_type": "code",
   "execution_count": null,
   "metadata": {},
   "outputs": [],
   "source": []
  },
  {
   "cell_type": "code",
   "execution_count": null,
   "metadata": {},
   "outputs": [],
   "source": []
  },
  {
   "cell_type": "code",
   "execution_count": null,
   "metadata": {},
   "outputs": [],
   "source": []
  },
  {
   "cell_type": "code",
   "execution_count": null,
   "metadata": {},
   "outputs": [],
   "source": []
  },
  {
   "cell_type": "code",
   "execution_count": null,
   "metadata": {},
   "outputs": [],
   "source": []
  }
 ],
 "metadata": {
  "kernelspec": {
   "display_name": "Python 3",
   "language": "python",
   "name": "python3"
  },
  "language_info": {
   "codemirror_mode": {
    "name": "ipython",
    "version": 3
   },
   "file_extension": ".py",
   "mimetype": "text/x-python",
   "name": "python",
   "nbconvert_exporter": "python",
   "pygments_lexer": "ipython3",
   "version": "3.8.10"
  }
 },
 "nbformat": 4,
 "nbformat_minor": 2
}
